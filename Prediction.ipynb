{
 "cells": [
  {
   "cell_type": "markdown",
   "metadata": {},
   "source": [
    "# Churn Prediction using ANN"
   ]
  },
  {
   "cell_type": "markdown",
   "metadata": {},
   "source": [
    "# Importing Dependencies"
   ]
  },
  {
   "cell_type": "code",
   "execution_count": 54,
   "metadata": {},
   "outputs": [],
   "source": [
    "import os\n",
    "import numpy as np \n",
    "import tensorflow as tf\n",
    "import pandas as pd\n",
    "from sklearn.model_selection import train_test_split\n",
    "from sklearn.preprocessing import StandardScaler\n",
    "from sklearn.metrics import accuracy_score\n",
    "from tensorflow.keras import Sequential\n",
    "from tensorflow.keras.layers import Dense\n",
    "import matplotlib.pyplot as plt"
   ]
  },
  {
   "cell_type": "markdown",
   "metadata": {},
   "source": [
    "# Loading the Dataset"
   ]
  },
  {
   "cell_type": "code",
   "execution_count": 55,
   "metadata": {},
   "outputs": [],
   "source": [
    "df = pd.read_csv('./data/Churn.csv')"
   ]
  },
  {
   "cell_type": "code",
   "execution_count": 56,
   "metadata": {},
   "outputs": [
    {
     "name": "stdout",
     "output_type": "stream",
     "text": [
      "<class 'pandas.core.frame.DataFrame'>\n",
      "RangeIndex: 10000 entries, 0 to 9999\n",
      "Data columns (total 14 columns):\n",
      " #   Column           Non-Null Count  Dtype  \n",
      "---  ------           --------------  -----  \n",
      " 0   RowNumber        10000 non-null  int64  \n",
      " 1   CustomerId       10000 non-null  int64  \n",
      " 2   Surname          10000 non-null  object \n",
      " 3   CreditScore      10000 non-null  int64  \n",
      " 4   Geography        10000 non-null  object \n",
      " 5   Gender           10000 non-null  object \n",
      " 6   Age              10000 non-null  int64  \n",
      " 7   Tenure           10000 non-null  int64  \n",
      " 8   Balance          10000 non-null  float64\n",
      " 9   NumOfProducts    10000 non-null  int64  \n",
      " 10  HasCrCard        10000 non-null  int64  \n",
      " 11  IsActiveMember   10000 non-null  int64  \n",
      " 12  EstimatedSalary  10000 non-null  float64\n",
      " 13  Exited           10000 non-null  int64  \n",
      "dtypes: float64(2), int64(9), object(3)\n",
      "memory usage: 1.1+ MB\n"
     ]
    }
   ],
   "source": [
    "# Looking for missing values\n",
    "df.info()"
   ]
  },
  {
   "cell_type": "code",
   "execution_count": 57,
   "metadata": {},
   "outputs": [
    {
     "data": {
      "text/plain": [
       "0    7963\n",
       "1    2037\n",
       "Name: Exited, dtype: int64"
      ]
     },
     "execution_count": 57,
     "metadata": {},
     "output_type": "execute_result"
    }
   ],
   "source": [
    "# Number of people exited\n",
    "df['Exited'].value_counts()"
   ]
  },
  {
   "cell_type": "code",
   "execution_count": 58,
   "metadata": {},
   "outputs": [],
   "source": [
    "df = df.drop(columns=['RowNumber', 'CustomerId', 'Surname'])"
   ]
  },
  {
   "cell_type": "code",
   "execution_count": 59,
   "metadata": {},
   "outputs": [
    {
     "data": {
      "text/html": [
       "<div>\n",
       "<style scoped>\n",
       "    .dataframe tbody tr th:only-of-type {\n",
       "        vertical-align: middle;\n",
       "    }\n",
       "\n",
       "    .dataframe tbody tr th {\n",
       "        vertical-align: top;\n",
       "    }\n",
       "\n",
       "    .dataframe thead th {\n",
       "        text-align: right;\n",
       "    }\n",
       "</style>\n",
       "<table border=\"1\" class=\"dataframe\">\n",
       "  <thead>\n",
       "    <tr style=\"text-align: right;\">\n",
       "      <th></th>\n",
       "      <th>CreditScore</th>\n",
       "      <th>Geography</th>\n",
       "      <th>Gender</th>\n",
       "      <th>Age</th>\n",
       "      <th>Tenure</th>\n",
       "      <th>Balance</th>\n",
       "      <th>NumOfProducts</th>\n",
       "      <th>HasCrCard</th>\n",
       "      <th>IsActiveMember</th>\n",
       "      <th>EstimatedSalary</th>\n",
       "      <th>Exited</th>\n",
       "    </tr>\n",
       "  </thead>\n",
       "  <tbody>\n",
       "    <tr>\n",
       "      <th>0</th>\n",
       "      <td>619</td>\n",
       "      <td>France</td>\n",
       "      <td>Female</td>\n",
       "      <td>42</td>\n",
       "      <td>2</td>\n",
       "      <td>0.00</td>\n",
       "      <td>1</td>\n",
       "      <td>1</td>\n",
       "      <td>1</td>\n",
       "      <td>101348.88</td>\n",
       "      <td>1</td>\n",
       "    </tr>\n",
       "    <tr>\n",
       "      <th>1</th>\n",
       "      <td>608</td>\n",
       "      <td>Spain</td>\n",
       "      <td>Female</td>\n",
       "      <td>41</td>\n",
       "      <td>1</td>\n",
       "      <td>83807.86</td>\n",
       "      <td>1</td>\n",
       "      <td>0</td>\n",
       "      <td>1</td>\n",
       "      <td>112542.58</td>\n",
       "      <td>0</td>\n",
       "    </tr>\n",
       "    <tr>\n",
       "      <th>2</th>\n",
       "      <td>502</td>\n",
       "      <td>France</td>\n",
       "      <td>Female</td>\n",
       "      <td>42</td>\n",
       "      <td>8</td>\n",
       "      <td>159660.80</td>\n",
       "      <td>3</td>\n",
       "      <td>1</td>\n",
       "      <td>0</td>\n",
       "      <td>113931.57</td>\n",
       "      <td>1</td>\n",
       "    </tr>\n",
       "    <tr>\n",
       "      <th>3</th>\n",
       "      <td>699</td>\n",
       "      <td>France</td>\n",
       "      <td>Female</td>\n",
       "      <td>39</td>\n",
       "      <td>1</td>\n",
       "      <td>0.00</td>\n",
       "      <td>2</td>\n",
       "      <td>0</td>\n",
       "      <td>0</td>\n",
       "      <td>93826.63</td>\n",
       "      <td>0</td>\n",
       "    </tr>\n",
       "    <tr>\n",
       "      <th>4</th>\n",
       "      <td>850</td>\n",
       "      <td>Spain</td>\n",
       "      <td>Female</td>\n",
       "      <td>43</td>\n",
       "      <td>2</td>\n",
       "      <td>125510.82</td>\n",
       "      <td>1</td>\n",
       "      <td>1</td>\n",
       "      <td>1</td>\n",
       "      <td>79084.10</td>\n",
       "      <td>0</td>\n",
       "    </tr>\n",
       "  </tbody>\n",
       "</table>\n",
       "</div>"
      ],
      "text/plain": [
       "   CreditScore Geography  Gender  Age  Tenure    Balance  NumOfProducts  \\\n",
       "0          619    France  Female   42       2       0.00              1   \n",
       "1          608     Spain  Female   41       1   83807.86              1   \n",
       "2          502    France  Female   42       8  159660.80              3   \n",
       "3          699    France  Female   39       1       0.00              2   \n",
       "4          850     Spain  Female   43       2  125510.82              1   \n",
       "\n",
       "   HasCrCard  IsActiveMember  EstimatedSalary  Exited  \n",
       "0          1               1        101348.88       1  \n",
       "1          0               1        112542.58       0  \n",
       "2          1               0        113931.57       1  \n",
       "3          0               0         93826.63       0  \n",
       "4          1               1         79084.10       0  "
      ]
     },
     "execution_count": 59,
     "metadata": {},
     "output_type": "execute_result"
    }
   ],
   "source": [
    "df.head()"
   ]
  },
  {
   "cell_type": "markdown",
   "metadata": {},
   "source": [
    "# Preprocessing"
   ]
  },
  {
   "cell_type": "code",
   "execution_count": 60,
   "metadata": {},
   "outputs": [],
   "source": [
    "# Converting everything to numerical data\n",
    "df = pd.get_dummies(df, columns=['Geography', 'Gender'], drop_first=True)"
   ]
  },
  {
   "cell_type": "code",
   "execution_count": 61,
   "metadata": {},
   "outputs": [],
   "source": [
    "# Defining the Predictor and Response\n",
    "X = df.drop(columns=['Exited'])\n",
    "y = df['Exited']"
   ]
  },
  {
   "cell_type": "code",
   "execution_count": 62,
   "metadata": {},
   "outputs": [],
   "source": [
    "# Training and Testing Split\n",
    "X_train, X_test, y_train, y_test = train_test_split(X, y, test_size=0.2, random_state=1)"
   ]
  },
  {
   "cell_type": "code",
   "execution_count": 63,
   "metadata": {},
   "outputs": [],
   "source": [
    "# Scaling\n",
    "scaler = StandardScaler()\n",
    "\n",
    "X_train_scaled = scaler.fit_transform(X_train)\n",
    "X_test_scaled = scaler.fit_transform(X_test)"
   ]
  },
  {
   "cell_type": "markdown",
   "metadata": {},
   "source": [
    "# Model Building"
   ]
  },
  {
   "cell_type": "code",
   "execution_count": 64,
   "metadata": {},
   "outputs": [
    {
     "name": "stdout",
     "output_type": "stream",
     "text": [
      "Model: \"sequential_4\"\n",
      "_________________________________________________________________\n",
      " Layer (type)                Output Shape              Param #   \n",
      "=================================================================\n",
      " dense_8 (Dense)             (None, 11)                132       \n",
      "                                                                 \n",
      " dense_9 (Dense)             (None, 11)                132       \n",
      "                                                                 \n",
      " dense_10 (Dense)            (None, 1)                 12        \n",
      "                                                                 \n",
      "=================================================================\n",
      "Total params: 276\n",
      "Trainable params: 276\n",
      "Non-trainable params: 0\n",
      "_________________________________________________________________\n"
     ]
    }
   ],
   "source": [
    "model = Sequential()\n",
    "\n",
    "model.add(Dense(11, activation = 'relu', input_dim = 11))\n",
    "model.add(Dense(11, activation = 'relu'))\n",
    "model.add(Dense(1, activation = 'sigmoid')) \n",
    "\n",
    "model.summary()"
   ]
  },
  {
   "cell_type": "code",
   "execution_count": 65,
   "metadata": {},
   "outputs": [],
   "source": [
    "# Compiling the model\n",
    "model.compile(loss='binary_crossentropy', optimizer='Adam', metrics=['accuracy'])"
   ]
  },
  {
   "cell_type": "markdown",
   "metadata": {},
   "source": [
    "# Training"
   ]
  },
  {
   "cell_type": "code",
   "execution_count": 66,
   "metadata": {
    "slideshow": {
     "slide_type": "subslide"
    }
   },
   "outputs": [
    {
     "name": "stdout",
     "output_type": "stream",
     "text": [
      "Epoch 1/100\n"
     ]
    },
    {
     "name": "stdout",
     "output_type": "stream",
     "text": [
      "200/200 [==============================] - 1s 3ms/step - loss: 0.4991 - accuracy: 0.7916 - val_loss: 0.4613 - val_accuracy: 0.7975\n",
      "Epoch 2/100\n",
      "200/200 [==============================] - 0s 2ms/step - loss: 0.4439 - accuracy: 0.7975 - val_loss: 0.4380 - val_accuracy: 0.8006\n",
      "Epoch 3/100\n",
      "200/200 [==============================] - 0s 2ms/step - loss: 0.4265 - accuracy: 0.8037 - val_loss: 0.4213 - val_accuracy: 0.8087\n",
      "Epoch 4/100\n",
      "200/200 [==============================] - 0s 2ms/step - loss: 0.4120 - accuracy: 0.8086 - val_loss: 0.4071 - val_accuracy: 0.8175\n",
      "Epoch 5/100\n",
      "200/200 [==============================] - 0s 1ms/step - loss: 0.3976 - accuracy: 0.8203 - val_loss: 0.3920 - val_accuracy: 0.8288\n",
      "Epoch 6/100\n",
      "200/200 [==============================] - 1s 3ms/step - loss: 0.3831 - accuracy: 0.8381 - val_loss: 0.3776 - val_accuracy: 0.8413\n",
      "Epoch 7/100\n",
      "200/200 [==============================] - 0s 2ms/step - loss: 0.3717 - accuracy: 0.8436 - val_loss: 0.3688 - val_accuracy: 0.8462\n",
      "Epoch 8/100\n",
      "200/200 [==============================] - 0s 2ms/step - loss: 0.3639 - accuracy: 0.8478 - val_loss: 0.3619 - val_accuracy: 0.8481\n",
      "Epoch 9/100\n",
      "200/200 [==============================] - 0s 2ms/step - loss: 0.3587 - accuracy: 0.8505 - val_loss: 0.3594 - val_accuracy: 0.8462\n",
      "Epoch 10/100\n",
      "200/200 [==============================] - 1s 4ms/step - loss: 0.3557 - accuracy: 0.8506 - val_loss: 0.3542 - val_accuracy: 0.8494\n",
      "Epoch 11/100\n",
      "200/200 [==============================] - 1s 3ms/step - loss: 0.3525 - accuracy: 0.8514 - val_loss: 0.3537 - val_accuracy: 0.8519\n",
      "Epoch 12/100\n",
      "200/200 [==============================] - 0s 2ms/step - loss: 0.3508 - accuracy: 0.8547 - val_loss: 0.3511 - val_accuracy: 0.8506\n",
      "Epoch 13/100\n",
      "200/200 [==============================] - 0s 2ms/step - loss: 0.3494 - accuracy: 0.8566 - val_loss: 0.3493 - val_accuracy: 0.8537\n",
      "Epoch 14/100\n",
      "200/200 [==============================] - 1s 3ms/step - loss: 0.3471 - accuracy: 0.8559 - val_loss: 0.3479 - val_accuracy: 0.8519\n",
      "Epoch 15/100\n",
      "200/200 [==============================] - 0s 2ms/step - loss: 0.3453 - accuracy: 0.8581 - val_loss: 0.3468 - val_accuracy: 0.8544\n",
      "Epoch 16/100\n",
      "200/200 [==============================] - 0s 2ms/step - loss: 0.3445 - accuracy: 0.8591 - val_loss: 0.3464 - val_accuracy: 0.8512\n",
      "Epoch 17/100\n",
      "200/200 [==============================] - 0s 2ms/step - loss: 0.3431 - accuracy: 0.8584 - val_loss: 0.3449 - val_accuracy: 0.8562\n",
      "Epoch 18/100\n",
      "200/200 [==============================] - 0s 2ms/step - loss: 0.3417 - accuracy: 0.8597 - val_loss: 0.3448 - val_accuracy: 0.8544\n",
      "Epoch 19/100\n",
      "200/200 [==============================] - 0s 2ms/step - loss: 0.3405 - accuracy: 0.8598 - val_loss: 0.3459 - val_accuracy: 0.8537\n",
      "Epoch 20/100\n",
      "200/200 [==============================] - 0s 2ms/step - loss: 0.3396 - accuracy: 0.8609 - val_loss: 0.3440 - val_accuracy: 0.8531\n",
      "Epoch 21/100\n",
      "200/200 [==============================] - 0s 2ms/step - loss: 0.3387 - accuracy: 0.8612 - val_loss: 0.3438 - val_accuracy: 0.8544\n",
      "Epoch 22/100\n",
      "200/200 [==============================] - 0s 2ms/step - loss: 0.3382 - accuracy: 0.8609 - val_loss: 0.3446 - val_accuracy: 0.8544\n",
      "Epoch 23/100\n",
      "200/200 [==============================] - 0s 2ms/step - loss: 0.3373 - accuracy: 0.8617 - val_loss: 0.3442 - val_accuracy: 0.8544\n",
      "Epoch 24/100\n",
      "200/200 [==============================] - 0s 2ms/step - loss: 0.3367 - accuracy: 0.8627 - val_loss: 0.3431 - val_accuracy: 0.8544\n",
      "Epoch 25/100\n",
      "200/200 [==============================] - 0s 2ms/step - loss: 0.3358 - accuracy: 0.8628 - val_loss: 0.3430 - val_accuracy: 0.8525\n",
      "Epoch 26/100\n",
      "200/200 [==============================] - 0s 2ms/step - loss: 0.3357 - accuracy: 0.8634 - val_loss: 0.3423 - val_accuracy: 0.8550\n",
      "Epoch 27/100\n",
      "200/200 [==============================] - 0s 2ms/step - loss: 0.3353 - accuracy: 0.8630 - val_loss: 0.3428 - val_accuracy: 0.8569\n",
      "Epoch 28/100\n",
      "200/200 [==============================] - 0s 2ms/step - loss: 0.3344 - accuracy: 0.8633 - val_loss: 0.3426 - val_accuracy: 0.8569\n",
      "Epoch 29/100\n",
      "200/200 [==============================] - 0s 2ms/step - loss: 0.3339 - accuracy: 0.8628 - val_loss: 0.3427 - val_accuracy: 0.8556\n",
      "Epoch 30/100\n",
      "200/200 [==============================] - 0s 2ms/step - loss: 0.3334 - accuracy: 0.8620 - val_loss: 0.3437 - val_accuracy: 0.8562\n",
      "Epoch 31/100\n",
      "200/200 [==============================] - 0s 2ms/step - loss: 0.3328 - accuracy: 0.8639 - val_loss: 0.3428 - val_accuracy: 0.8537\n",
      "Epoch 32/100\n",
      "200/200 [==============================] - 0s 2ms/step - loss: 0.3328 - accuracy: 0.8616 - val_loss: 0.3432 - val_accuracy: 0.8531\n",
      "Epoch 33/100\n",
      "200/200 [==============================] - 0s 2ms/step - loss: 0.3323 - accuracy: 0.8619 - val_loss: 0.3428 - val_accuracy: 0.8556\n",
      "Epoch 34/100\n",
      "200/200 [==============================] - 0s 2ms/step - loss: 0.3319 - accuracy: 0.8648 - val_loss: 0.3441 - val_accuracy: 0.8550\n",
      "Epoch 35/100\n",
      "200/200 [==============================] - 0s 2ms/step - loss: 0.3321 - accuracy: 0.8636 - val_loss: 0.3425 - val_accuracy: 0.8581\n",
      "Epoch 36/100\n",
      "200/200 [==============================] - 0s 2ms/step - loss: 0.3312 - accuracy: 0.8645 - val_loss: 0.3440 - val_accuracy: 0.8550\n",
      "Epoch 37/100\n",
      "200/200 [==============================] - 0s 2ms/step - loss: 0.3314 - accuracy: 0.8634 - val_loss: 0.3431 - val_accuracy: 0.8556\n",
      "Epoch 38/100\n",
      "200/200 [==============================] - 0s 2ms/step - loss: 0.3313 - accuracy: 0.8641 - val_loss: 0.3423 - val_accuracy: 0.8562\n",
      "Epoch 39/100\n",
      "200/200 [==============================] - 1s 3ms/step - loss: 0.3310 - accuracy: 0.8645 - val_loss: 0.3429 - val_accuracy: 0.8569\n",
      "Epoch 40/100\n",
      "200/200 [==============================] - 0s 2ms/step - loss: 0.3305 - accuracy: 0.8653 - val_loss: 0.3438 - val_accuracy: 0.8556\n",
      "Epoch 41/100\n",
      "200/200 [==============================] - 0s 2ms/step - loss: 0.3300 - accuracy: 0.8648 - val_loss: 0.3424 - val_accuracy: 0.8575\n",
      "Epoch 42/100\n",
      "200/200 [==============================] - 0s 2ms/step - loss: 0.3296 - accuracy: 0.8645 - val_loss: 0.3448 - val_accuracy: 0.8562\n",
      "Epoch 43/100\n",
      "200/200 [==============================] - 0s 2ms/step - loss: 0.3294 - accuracy: 0.8645 - val_loss: 0.3432 - val_accuracy: 0.8556\n",
      "Epoch 44/100\n",
      "200/200 [==============================] - 0s 2ms/step - loss: 0.3293 - accuracy: 0.8648 - val_loss: 0.3437 - val_accuracy: 0.8550\n",
      "Epoch 45/100\n",
      "200/200 [==============================] - 0s 2ms/step - loss: 0.3288 - accuracy: 0.8666 - val_loss: 0.3447 - val_accuracy: 0.8531\n",
      "Epoch 46/100\n",
      "200/200 [==============================] - 0s 2ms/step - loss: 0.3282 - accuracy: 0.8662 - val_loss: 0.3431 - val_accuracy: 0.8562\n",
      "Epoch 47/100\n",
      "200/200 [==============================] - 1s 3ms/step - loss: 0.3284 - accuracy: 0.8659 - val_loss: 0.3432 - val_accuracy: 0.8587\n",
      "Epoch 48/100\n",
      "200/200 [==============================] - 1s 4ms/step - loss: 0.3283 - accuracy: 0.8658 - val_loss: 0.3441 - val_accuracy: 0.8562\n",
      "Epoch 49/100\n",
      "200/200 [==============================] - 0s 2ms/step - loss: 0.3278 - accuracy: 0.8653 - val_loss: 0.3440 - val_accuracy: 0.8531\n",
      "Epoch 50/100\n",
      "200/200 [==============================] - 0s 2ms/step - loss: 0.3274 - accuracy: 0.8669 - val_loss: 0.3468 - val_accuracy: 0.8525\n",
      "Epoch 51/100\n",
      "200/200 [==============================] - 1s 3ms/step - loss: 0.3275 - accuracy: 0.8664 - val_loss: 0.3450 - val_accuracy: 0.8519\n",
      "Epoch 52/100\n",
      "200/200 [==============================] - 0s 2ms/step - loss: 0.3273 - accuracy: 0.8672 - val_loss: 0.3445 - val_accuracy: 0.8525\n",
      "Epoch 53/100\n",
      "200/200 [==============================] - 0s 2ms/step - loss: 0.3267 - accuracy: 0.8673 - val_loss: 0.3435 - val_accuracy: 0.8550\n",
      "Epoch 54/100\n",
      "200/200 [==============================] - 0s 2ms/step - loss: 0.3260 - accuracy: 0.8675 - val_loss: 0.3455 - val_accuracy: 0.8531\n",
      "Epoch 55/100\n",
      "200/200 [==============================] - 0s 1ms/step - loss: 0.3263 - accuracy: 0.8666 - val_loss: 0.3440 - val_accuracy: 0.8531\n",
      "Epoch 56/100\n",
      "200/200 [==============================] - 0s 1ms/step - loss: 0.3267 - accuracy: 0.8669 - val_loss: 0.3451 - val_accuracy: 0.8506\n",
      "Epoch 57/100\n",
      "200/200 [==============================] - 0s 1ms/step - loss: 0.3256 - accuracy: 0.8683 - val_loss: 0.3439 - val_accuracy: 0.8569\n",
      "Epoch 58/100\n",
      "200/200 [==============================] - 0s 1ms/step - loss: 0.3259 - accuracy: 0.8659 - val_loss: 0.3462 - val_accuracy: 0.8519\n",
      "Epoch 59/100\n",
      "200/200 [==============================] - 0s 1ms/step - loss: 0.3253 - accuracy: 0.8694 - val_loss: 0.3469 - val_accuracy: 0.8512\n",
      "Epoch 60/100\n",
      "200/200 [==============================] - 0s 1ms/step - loss: 0.3257 - accuracy: 0.8683 - val_loss: 0.3470 - val_accuracy: 0.8531\n",
      "Epoch 61/100\n",
      "200/200 [==============================] - 0s 1ms/step - loss: 0.3254 - accuracy: 0.8669 - val_loss: 0.3462 - val_accuracy: 0.8531\n",
      "Epoch 62/100\n",
      "200/200 [==============================] - 0s 1ms/step - loss: 0.3249 - accuracy: 0.8664 - val_loss: 0.3463 - val_accuracy: 0.8537\n",
      "Epoch 63/100\n",
      "200/200 [==============================] - 0s 2ms/step - loss: 0.3250 - accuracy: 0.8681 - val_loss: 0.3463 - val_accuracy: 0.8506\n",
      "Epoch 64/100\n",
      "200/200 [==============================] - 0s 2ms/step - loss: 0.3251 - accuracy: 0.8667 - val_loss: 0.3469 - val_accuracy: 0.8550\n",
      "Epoch 65/100\n",
      "200/200 [==============================] - 0s 1ms/step - loss: 0.3246 - accuracy: 0.8670 - val_loss: 0.3476 - val_accuracy: 0.8525\n",
      "Epoch 66/100\n",
      "200/200 [==============================] - 0s 1ms/step - loss: 0.3245 - accuracy: 0.8692 - val_loss: 0.3481 - val_accuracy: 0.8512\n",
      "Epoch 67/100\n",
      "200/200 [==============================] - 0s 1ms/step - loss: 0.3246 - accuracy: 0.8677 - val_loss: 0.3458 - val_accuracy: 0.8550\n",
      "Epoch 68/100\n",
      "200/200 [==============================] - 0s 2ms/step - loss: 0.3243 - accuracy: 0.8691 - val_loss: 0.3487 - val_accuracy: 0.8556\n",
      "Epoch 69/100\n",
      "200/200 [==============================] - 0s 2ms/step - loss: 0.3248 - accuracy: 0.8672 - val_loss: 0.3475 - val_accuracy: 0.8512\n",
      "Epoch 70/100\n",
      "200/200 [==============================] - 0s 2ms/step - loss: 0.3242 - accuracy: 0.8675 - val_loss: 0.3474 - val_accuracy: 0.8556\n",
      "Epoch 71/100\n",
      "200/200 [==============================] - 0s 1ms/step - loss: 0.3236 - accuracy: 0.8672 - val_loss: 0.3482 - val_accuracy: 0.8531\n",
      "Epoch 72/100\n",
      "200/200 [==============================] - 0s 1ms/step - loss: 0.3236 - accuracy: 0.8672 - val_loss: 0.3500 - val_accuracy: 0.8531\n",
      "Epoch 73/100\n",
      "200/200 [==============================] - 0s 2ms/step - loss: 0.3238 - accuracy: 0.8677 - val_loss: 0.3482 - val_accuracy: 0.8525\n",
      "Epoch 74/100\n",
      "200/200 [==============================] - 0s 1ms/step - loss: 0.3232 - accuracy: 0.8672 - val_loss: 0.3485 - val_accuracy: 0.8537\n",
      "Epoch 75/100\n",
      "200/200 [==============================] - 0s 1ms/step - loss: 0.3233 - accuracy: 0.8678 - val_loss: 0.3483 - val_accuracy: 0.8512\n",
      "Epoch 76/100\n",
      "200/200 [==============================] - 0s 1ms/step - loss: 0.3235 - accuracy: 0.8667 - val_loss: 0.3475 - val_accuracy: 0.8525\n",
      "Epoch 77/100\n",
      "200/200 [==============================] - 0s 2ms/step - loss: 0.3227 - accuracy: 0.8672 - val_loss: 0.3478 - val_accuracy: 0.8519\n",
      "Epoch 78/100\n",
      "200/200 [==============================] - 0s 2ms/step - loss: 0.3224 - accuracy: 0.8673 - val_loss: 0.3488 - val_accuracy: 0.8531\n",
      "Epoch 79/100\n",
      "200/200 [==============================] - 0s 1ms/step - loss: 0.3229 - accuracy: 0.8681 - val_loss: 0.3489 - val_accuracy: 0.8506\n",
      "Epoch 80/100\n",
      "200/200 [==============================] - 0s 2ms/step - loss: 0.3226 - accuracy: 0.8673 - val_loss: 0.3488 - val_accuracy: 0.8556\n",
      "Epoch 81/100\n",
      "200/200 [==============================] - 0s 1ms/step - loss: 0.3224 - accuracy: 0.8677 - val_loss: 0.3501 - val_accuracy: 0.8544\n",
      "Epoch 82/100\n",
      "200/200 [==============================] - 0s 2ms/step - loss: 0.3218 - accuracy: 0.8672 - val_loss: 0.3512 - val_accuracy: 0.8525\n",
      "Epoch 83/100\n",
      "200/200 [==============================] - 0s 2ms/step - loss: 0.3219 - accuracy: 0.8681 - val_loss: 0.3503 - val_accuracy: 0.8494\n",
      "Epoch 84/100\n",
      "200/200 [==============================] - 0s 2ms/step - loss: 0.3220 - accuracy: 0.8670 - val_loss: 0.3498 - val_accuracy: 0.8531\n",
      "Epoch 85/100\n",
      "200/200 [==============================] - 0s 1ms/step - loss: 0.3215 - accuracy: 0.8686 - val_loss: 0.3513 - val_accuracy: 0.8500\n",
      "Epoch 86/100\n",
      "200/200 [==============================] - 0s 2ms/step - loss: 0.3215 - accuracy: 0.8664 - val_loss: 0.3510 - val_accuracy: 0.8525\n",
      "Epoch 87/100\n",
      "200/200 [==============================] - 0s 2ms/step - loss: 0.3216 - accuracy: 0.8681 - val_loss: 0.3530 - val_accuracy: 0.8525\n",
      "Epoch 88/100\n",
      "200/200 [==============================] - 0s 2ms/step - loss: 0.3211 - accuracy: 0.8691 - val_loss: 0.3521 - val_accuracy: 0.8531\n",
      "Epoch 89/100\n",
      "200/200 [==============================] - 0s 2ms/step - loss: 0.3213 - accuracy: 0.8669 - val_loss: 0.3521 - val_accuracy: 0.8500\n",
      "Epoch 90/100\n",
      "200/200 [==============================] - 0s 1ms/step - loss: 0.3207 - accuracy: 0.8681 - val_loss: 0.3512 - val_accuracy: 0.8494\n",
      "Epoch 91/100\n",
      "200/200 [==============================] - 0s 2ms/step - loss: 0.3211 - accuracy: 0.8681 - val_loss: 0.3509 - val_accuracy: 0.8512\n",
      "Epoch 92/100\n",
      "200/200 [==============================] - 0s 1ms/step - loss: 0.3214 - accuracy: 0.8673 - val_loss: 0.3515 - val_accuracy: 0.8481\n",
      "Epoch 93/100\n",
      "200/200 [==============================] - 0s 2ms/step - loss: 0.3205 - accuracy: 0.8684 - val_loss: 0.3528 - val_accuracy: 0.8481\n",
      "Epoch 94/100\n",
      "200/200 [==============================] - 0s 2ms/step - loss: 0.3206 - accuracy: 0.8684 - val_loss: 0.3512 - val_accuracy: 0.8556\n",
      "Epoch 95/100\n",
      "200/200 [==============================] - 0s 2ms/step - loss: 0.3199 - accuracy: 0.8670 - val_loss: 0.3543 - val_accuracy: 0.8475\n",
      "Epoch 96/100\n",
      "200/200 [==============================] - 0s 1ms/step - loss: 0.3204 - accuracy: 0.8698 - val_loss: 0.3534 - val_accuracy: 0.8500\n",
      "Epoch 97/100\n",
      "200/200 [==============================] - 0s 1ms/step - loss: 0.3203 - accuracy: 0.8675 - val_loss: 0.3537 - val_accuracy: 0.8519\n",
      "Epoch 98/100\n",
      "200/200 [==============================] - 0s 1ms/step - loss: 0.3199 - accuracy: 0.8683 - val_loss: 0.3531 - val_accuracy: 0.8506\n",
      "Epoch 99/100\n",
      "200/200 [==============================] - 0s 2ms/step - loss: 0.3200 - accuracy: 0.8680 - val_loss: 0.3529 - val_accuracy: 0.8481\n",
      "Epoch 100/100\n",
      "200/200 [==============================] - 0s 1ms/step - loss: 0.3198 - accuracy: 0.8689 - val_loss: 0.3532 - val_accuracy: 0.8525\n"
     ]
    }
   ],
   "source": [
    "history = model.fit(X_train_scaled, y_train, epochs=100, validation_split=0.2)"
   ]
  },
  {
   "cell_type": "code",
   "execution_count": 67,
   "metadata": {},
   "outputs": [
    {
     "data": {
      "text/plain": [
       "[array([[ 2.39103705e-01, -6.86210543e-02, -1.16393773e-03,\n",
       "          7.40052581e-01, -4.35644537e-02, -3.12432200e-01,\n",
       "         -1.16535641e-01, -8.28998908e-02,  7.29797333e-02,\n",
       "          3.32242578e-01,  2.49887377e-01],\n",
       "        [-2.02526614e-01,  8.92122462e-03,  4.99631226e-01,\n",
       "          4.22501326e-01,  1.33381808e+00, -7.41655409e-01,\n",
       "          1.22316711e-01, -4.42624658e-01, -2.50675172e-01,\n",
       "         -1.30667138e+00, -4.80048433e-02],\n",
       "        [-3.78953725e-01, -1.08418487e-01,  2.57911146e-01,\n",
       "         -4.56152886e-01, -3.04328147e-02,  5.50074801e-02,\n",
       "          4.18018773e-02,  2.05919653e-01, -1.20553069e-01,\n",
       "         -7.15695143e-01, -2.64016300e-01],\n",
       "        [ 1.19044155e-01, -4.24220979e-01, -5.03518939e-01,\n",
       "         -5.43928862e-01,  1.63855851e-02, -8.07464778e-01,\n",
       "          3.11517000e-01,  1.85922369e-01,  1.18730567e-01,\n",
       "         -2.81533033e-01, -2.36156777e-01],\n",
       "        [-2.47699484e-01, -1.02630687e+00, -2.07361847e-01,\n",
       "          5.45194522e-02, -1.10300221e-01,  1.57495618e-01,\n",
       "          7.93043673e-01,  1.69781551e-01, -4.95434910e-01,\n",
       "         -1.07709713e-01,  1.14321339e+00],\n",
       "        [ 2.14052442e-02, -1.32675618e-01, -2.73099065e-01,\n",
       "          1.06948286e-01,  7.34122321e-02, -1.12838671e-01,\n",
       "         -1.80105671e-01, -1.09590553e-01,  2.46590767e-02,\n",
       "          2.49176443e-01, -1.42134026e-01],\n",
       "        [-1.66008294e-01, -8.62681746e-01,  7.88213491e-01,\n",
       "         -1.04100928e-01,  4.43765558e-02, -3.14191580e-01,\n",
       "         -6.83785558e-01, -1.73917383e-01,  8.92210081e-02,\n",
       "         -2.07703575e-01,  5.20566106e-01],\n",
       "        [-2.57366627e-01,  6.96170181e-02, -1.88240439e-01,\n",
       "          4.28536862e-01, -1.25362530e-01, -2.83750832e-01,\n",
       "          6.81873262e-02, -1.35875465e-02,  5.19532859e-01,\n",
       "         -1.33288354e-01, -1.43285431e-02],\n",
       "        [-1.59926996e-01,  3.66825849e-01, -2.26432875e-01,\n",
       "         -7.65517473e-01,  1.88406765e-01,  5.20136297e-01,\n",
       "         -1.63089603e-01, -5.17765403e-01,  4.08839136e-01,\n",
       "         -8.44772384e-02,  7.60858580e-02],\n",
       "        [-1.02468574e+00,  2.00318724e-01,  5.43799341e-01,\n",
       "          2.71355003e-01,  1.75927281e-01,  3.39010358e-01,\n",
       "          8.70304883e-01, -8.09255093e-02, -9.19553220e-01,\n",
       "          5.34281790e-01, -1.95879847e-01],\n",
       "        [ 2.75187064e-02,  2.33174209e-02, -1.62204012e-01,\n",
       "          2.45743930e-01,  5.77530861e-02,  2.21470460e-01,\n",
       "          5.78548871e-02,  3.75957847e-01, -1.11250438e-01,\n",
       "          4.70559180e-01, -3.10752362e-01]], dtype=float32),\n",
       " array([ 0.51208884,  0.38873956,  0.14784849,  0.11796673, -0.15769301,\n",
       "         0.68773663, -0.06331943,  0.48940206,  0.36103308, -0.11722277,\n",
       "        -0.15315218], dtype=float32)]"
      ]
     },
     "execution_count": 67,
     "metadata": {},
     "output_type": "execute_result"
    }
   ],
   "source": [
    "# Checking the weights and biases of the hidden layer. To check for the output layer, replace 0 with 2\n",
    "model.layers[0].get_weights()"
   ]
  },
  {
   "cell_type": "markdown",
   "metadata": {},
   "source": [
    "# Testing"
   ]
  },
  {
   "cell_type": "code",
   "execution_count": 68,
   "metadata": {},
   "outputs": [
    {
     "name": "stdout",
     "output_type": "stream",
     "text": [
      "63/63 [==============================] - 0s 2ms/step\n"
     ]
    }
   ],
   "source": [
    "# Predicting\n",
    "y_log = model.predict(X_test_scaled)"
   ]
  },
  {
   "cell_type": "code",
   "execution_count": 69,
   "metadata": {},
   "outputs": [],
   "source": [
    "y_pred = np.where(y_log>0.5, 1, 0)"
   ]
  },
  {
   "cell_type": "markdown",
   "metadata": {},
   "source": [
    "# Evaluation"
   ]
  },
  {
   "cell_type": "code",
   "execution_count": 70,
   "metadata": {},
   "outputs": [
    {
     "data": {
      "text/plain": [
       "0.8615"
      ]
     },
     "execution_count": 70,
     "metadata": {},
     "output_type": "execute_result"
    }
   ],
   "source": [
    "accuracy_score(y_test, y_pred)"
   ]
  },
  {
   "cell_type": "code",
   "execution_count": 73,
   "metadata": {},
   "outputs": [
    {
     "data": {
      "image/png": "[encoded data removed]",
      "text/plain": [
       "<Figure size 576x576 with 2 Axes>"
      ]
     },
     "metadata": {
      "needs_background": "light"
     },
     "output_type": "display_data"
    }
   ],
   "source": [
    "fig, axs = plt.subplots(2, 1, figsize=(8, 8))\n",
    "\n",
    "axs[0].plot(history.history['loss'], label='Training Loss')\n",
    "axs[0].plot(history.history['val_loss'], label='Validation Loss')\n",
    "axs[0].legend(loc='upper right')\n",
    "axs[0].set_ylabel('Loss')\n",
    "axs[0].set_title('Training and Validation Loss')\n",
    "\n",
    "axs[1].plot(history.history['accuracy'], label='Training Accuracy')\n",
    "axs[1].plot(history.history['val_accuracy'], label='Validation Accuracy')\n",
    "axs[1].legend(loc='lower right')\n",
    "axs[1].set_ylabel('Accuracy')\n",
    "axs[1].set_title('Training and Validation Accuracy')\n",
    "\n",
    "plt.xlabel('Epoch')\n",
    "plt.show()"
   ]
  }
 ],
 "metadata": {
  "kernelspec": {
   "display_name": "Python 3",
   "language": "python",
   "name": "python3"
  },
  "language_info": {
   "codemirror_mode": {
    "name": "ipython",
    "version": 3
   },
   "file_extension": ".py",
   "mimetype": "text/x-python",
   "name": "python",
   "nbconvert_exporter": "python",
   "pygments_lexer": "ipython3",
   "version": "3.8.10"
  }
 },
 "nbformat": 4,
 "nbformat_minor": 2
}
